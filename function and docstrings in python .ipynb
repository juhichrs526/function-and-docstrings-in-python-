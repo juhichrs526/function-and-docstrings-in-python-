{
 "cells": [
  {
   "cell_type": "code",
   "execution_count": 2,
   "id": "04fe0aff",
   "metadata": {},
   "outputs": [
    {
     "name": "stdout",
     "output_type": "stream",
     "text": [
      "16\n"
     ]
    }
   ],
   "source": [
    "#built in function\n",
    "a=7\n",
    "b=9\n",
    "c= sum((a,b))\n",
    "print(c)"
   ]
  },
  {
   "cell_type": "code",
   "execution_count": 5,
   "id": "c92466c7",
   "metadata": {},
   "outputs": [
    {
     "name": "stdout",
     "output_type": "stream",
     "text": [
      "Hello, juhi chaurasiya\n",
      "None\n"
     ]
    }
   ],
   "source": [
    "#user defined function\n",
    "def function1():\n",
    "    print(\"Hello, juhi chaurasiya\")\n",
    "print (function1())    "
   ]
  },
  {
   "cell_type": "code",
   "execution_count": 9,
   "id": "6113c92d",
   "metadata": {},
   "outputs": [
    {
     "name": "stdout",
     "output_type": "stream",
     "text": [
      "Hello, juhi chaurasiya\n"
     ]
    }
   ],
   "source": [
    "def function1():\n",
    "    print(\"Hello, juhi chaurasiya\")\n",
    "function1() "
   ]
  },
  {
   "cell_type": "code",
   "execution_count": 10,
   "id": "7800ccad",
   "metadata": {},
   "outputs": [
    {
     "name": "stdout",
     "output_type": "stream",
     "text": [
      "Hello, juhi chaurasiya\n",
      "Hello, juhi chaurasiya\n",
      "Hello, juhi chaurasiya\n"
     ]
    }
   ],
   "source": [
    "def function1():\n",
    "    print(\"Hello, juhi chaurasiya\")\n",
    "function1() \n",
    "function1()\n",
    "function1()"
   ]
  },
  {
   "cell_type": "code",
   "execution_count": 12,
   "id": "db5caf5e",
   "metadata": {},
   "outputs": [
    {
     "name": "stdout",
     "output_type": "stream",
     "text": [
      "Hello, juhi chaurasiya 15\n"
     ]
    }
   ],
   "source": [
    "def function1(a,b):\n",
    "    print(\"Hello, juhi chaurasiya\",a+b)\n",
    "function1(6,9)"
   ]
  },
  {
   "cell_type": "code",
   "execution_count": 14,
   "id": "48e12163",
   "metadata": {},
   "outputs": [
    {
     "name": "stdout",
     "output_type": "stream",
     "text": [
      "7.5\n"
     ]
    }
   ],
   "source": [
    "def function1(a,b):\n",
    "    print(\"Hello, juhi chaurasiya\",a+b)\n",
    "def function2(a,b):\n",
    "    avg=(a+b)/2\n",
    "    print(avg)\n",
    "function2(6,9)"
   ]
  },
  {
   "cell_type": "code",
   "execution_count": 15,
   "id": "39f39bda",
   "metadata": {},
   "outputs": [
    {
     "name": "stdout",
     "output_type": "stream",
     "text": [
      "7.5\n",
      "7.5\n"
     ]
    }
   ],
   "source": [
    "def function1(a,b):\n",
    "    print(\"Hello, juhi chaurasiya\",a+b)\n",
    "def function2(a,b):\n",
    "    avg=(a+b)/2\n",
    "    print(avg)\n",
    "    return avg\n",
    "j=function2(6,9)\n",
    "print(j)"
   ]
  },
  {
   "cell_type": "code",
   "execution_count": 17,
   "id": "d7fad053",
   "metadata": {},
   "outputs": [
    {
     "name": "stdout",
     "output_type": "stream",
     "text": [
      "7.5\n",
      "7.5\n"
     ]
    }
   ],
   "source": [
    "#docstring\n",
    "def function1(a,b):\n",
    "    print(\"Hello, juhi chaurasiya\",a+b)\n",
    "def function2(a,b):\n",
    "    \"\"\"this is a function which will cal. average of two number\"\"\"\n",
    "    avg=(a+b)/2\n",
    "    print(avg)\n",
    "    return avg\n",
    "j=function2(6,9)\n",
    "print(j)"
   ]
  },
  {
   "cell_type": "code",
   "execution_count": 21,
   "id": "5c4eed96",
   "metadata": {},
   "outputs": [
    {
     "name": "stdout",
     "output_type": "stream",
     "text": [
      "this is a function which will cal. average of two number\n"
     ]
    }
   ],
   "source": [
    "def function1(a,b):\n",
    "    print(\"Hello, juhi chaurasiya\",a+b)\n",
    "def function2(a,b):\n",
    "    \"\"\"this is a function which will cal. average of two number\"\"\"\n",
    "    avg=(a+b)/2\n",
    "    #print(avg)\n",
    "    return avg\n",
    "#j=function2(6,9)\n",
    "#print(j)\n",
    "print(function2.__doc__)"
   ]
  },
  {
   "cell_type": "code",
   "execution_count": null,
   "id": "543916c6",
   "metadata": {},
   "outputs": [],
   "source": []
  }
 ],
 "metadata": {
  "kernelspec": {
   "display_name": "Python 3",
   "language": "python",
   "name": "python3"
  },
  "language_info": {
   "codemirror_mode": {
    "name": "ipython",
    "version": 3
   },
   "file_extension": ".py",
   "mimetype": "text/x-python",
   "name": "python",
   "nbconvert_exporter": "python",
   "pygments_lexer": "ipython3",
   "version": "3.8.8"
  }
 },
 "nbformat": 4,
 "nbformat_minor": 5
}
